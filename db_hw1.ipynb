{
 "cells": [
  {
   "cell_type": "code",
   "execution_count": 144,
   "id": "8e798299",
   "metadata": {},
   "outputs": [],
   "source": [
    "import pandas as pd"
   ]
  },
  {
   "cell_type": "markdown",
   "id": "9f08c611",
   "metadata": {},
   "source": [
    "Рассмотрим предоставленные нам данные"
   ]
  },
  {
   "cell_type": "code",
   "execution_count": 145,
   "id": "1fc61d16",
   "metadata": {},
   "outputs": [],
   "source": [
    "df_tr = pd.read_excel('customer_and_transaction.xlsx')"
   ]
  },
  {
   "cell_type": "code",
   "execution_count": 146,
   "id": "7234705f",
   "metadata": {},
   "outputs": [
    {
     "name": "stdout",
     "output_type": "stream",
     "text": [
      "<class 'pandas.core.frame.DataFrame'>\n",
      "RangeIndex: 20000 entries, 0 to 19999\n",
      "Data columns (total 12 columns):\n",
      " #   Column            Non-Null Count  Dtype         \n",
      "---  ------            --------------  -----         \n",
      " 0   transaction_id    20000 non-null  int64         \n",
      " 1   product_id        20000 non-null  int64         \n",
      " 2   customer_id       20000 non-null  int64         \n",
      " 3   transaction_date  20000 non-null  datetime64[ns]\n",
      " 4   online_order      19640 non-null  object        \n",
      " 5   order_status      20000 non-null  object        \n",
      " 6   brand             19803 non-null  object        \n",
      " 7   product_line      19803 non-null  object        \n",
      " 8   product_class     19803 non-null  object        \n",
      " 9   product_size      19803 non-null  object        \n",
      " 10  list_price        20000 non-null  float64       \n",
      " 11  standard_cost     19803 non-null  float64       \n",
      "dtypes: datetime64[ns](1), float64(2), int64(3), object(6)\n",
      "memory usage: 1.8+ MB\n"
     ]
    }
   ],
   "source": [
    "df_tr.info()"
   ]
  },
  {
   "cell_type": "markdown",
   "id": "6efb49f5",
   "metadata": {},
   "source": [
    "Датафрейм на 20 000 значений, 12 столбцов. Имеются пропуски в данных."
   ]
  },
  {
   "cell_type": "code",
   "execution_count": 147,
   "id": "64d6e274",
   "metadata": {},
   "outputs": [
    {
     "data": {
      "text/plain": [
       "1"
      ]
     },
     "execution_count": 147,
     "metadata": {},
     "output_type": "execute_result"
    }
   ],
   "source": [
    "df_tr['transaction_id'].value_counts(sort=True, ascending=True).max()"
   ]
  },
  {
   "cell_type": "markdown",
   "id": "5cd6de17",
   "metadata": {},
   "source": [
    "ID транзакций уникальны, и могут быть использованны в качестве первичного ключа"
   ]
  },
  {
   "cell_type": "code",
   "execution_count": 148,
   "id": "8ac7e9b2",
   "metadata": {},
   "outputs": [],
   "source": [
    "df_c  = pd.read_excel('customer_and_transaction.xlsx', sheet_name=1)"
   ]
  },
  {
   "cell_type": "code",
   "execution_count": 149,
   "id": "21c45764",
   "metadata": {},
   "outputs": [
    {
     "name": "stdout",
     "output_type": "stream",
     "text": [
      "<class 'pandas.core.frame.DataFrame'>\n",
      "RangeIndex: 4000 entries, 0 to 3999\n",
      "Data columns (total 15 columns):\n",
      " #   Column                 Non-Null Count  Dtype \n",
      "---  ------                 --------------  ----- \n",
      " 0   customer_id            4000 non-null   int64 \n",
      " 1   first_name             4000 non-null   object\n",
      " 2   last_name              3875 non-null   object\n",
      " 3   gender                 4000 non-null   object\n",
      " 4   DOB                    3913 non-null   object\n",
      " 5   job_title              3494 non-null   object\n",
      " 6   job_industry_category  3344 non-null   object\n",
      " 7   wealth_segment         4000 non-null   object\n",
      " 8   deceased_indicator     4000 non-null   object\n",
      " 9   owns_car               4000 non-null   object\n",
      " 10  address                4000 non-null   object\n",
      " 11  postcode               4000 non-null   int64 \n",
      " 12  state                  4000 non-null   object\n",
      " 13  country                4000 non-null   object\n",
      " 14  property_valuation     4000 non-null   int64 \n",
      "dtypes: int64(3), object(12)\n",
      "memory usage: 468.9+ KB\n"
     ]
    }
   ],
   "source": [
    "df_c.info()"
   ]
  },
  {
   "cell_type": "markdown",
   "id": "0db307d1",
   "metadata": {},
   "source": [
    "Датафрейм на 4 000 значений, 15 столбцов. Имеются пропуски в данных."
   ]
  },
  {
   "cell_type": "code",
   "execution_count": 150,
   "id": "770d8341",
   "metadata": {},
   "outputs": [
    {
     "data": {
      "text/plain": [
       "1"
      ]
     },
     "execution_count": 150,
     "metadata": {},
     "output_type": "execute_result"
    }
   ],
   "source": [
    "df_c['customer_id'].value_counts(sort=True, ascending=True).max()"
   ]
  },
  {
   "cell_type": "markdown",
   "id": "3d05b45a",
   "metadata": {},
   "source": [
    "ID клиентов уникальны, и могут быть использованны в качестве первичного ключа"
   ]
  },
  {
   "cell_type": "code",
   "execution_count": 151,
   "id": "2cfc32b0",
   "metadata": {},
   "outputs": [
    {
     "data": {
      "text/plain": [
       "gender\n",
       "Female    2037\n",
       "Male      1872\n",
       "U           88\n",
       "F            1\n",
       "Femal        1\n",
       "M            1\n",
       "Name: count, dtype: int64"
      ]
     },
     "execution_count": 151,
     "metadata": {},
     "output_type": "execute_result"
    }
   ],
   "source": [
    "df_c['gender'].value_counts()"
   ]
  },
  {
   "cell_type": "markdown",
   "id": "0cf93f0d",
   "metadata": {},
   "source": [
    "Пол клиентов записан разными способами, и вероятно лучше его привести к единному виду"
   ]
  },
  {
   "cell_type": "code",
   "execution_count": 152,
   "id": "f8263d3b",
   "metadata": {},
   "outputs": [],
   "source": [
    "df_c.loc[df_c['gender'].isin(['F', 'Femal']), 'gender'] = 'Female'"
   ]
  },
  {
   "cell_type": "code",
   "execution_count": 153,
   "id": "90cf294a",
   "metadata": {},
   "outputs": [],
   "source": [
    "df_c.loc[df_c['gender'] == 'M', 'gender'] = 'Male'"
   ]
  },
  {
   "cell_type": "code",
   "execution_count": 154,
   "id": "528f9fd8",
   "metadata": {},
   "outputs": [
    {
     "data": {
      "text/plain": [
       "gender\n",
       "Female    2039\n",
       "Male      1873\n",
       "U           88\n",
       "Name: count, dtype: int64"
      ]
     },
     "execution_count": 154,
     "metadata": {},
     "output_type": "execute_result"
    }
   ],
   "source": [
    "df_c['gender'].value_counts()"
   ]
  },
  {
   "cell_type": "code",
   "execution_count": 155,
   "id": "815339b2",
   "metadata": {},
   "outputs": [
    {
     "data": {
      "text/html": [
       "<div>\n",
       "<style scoped>\n",
       "    .dataframe tbody tr th:only-of-type {\n",
       "        vertical-align: middle;\n",
       "    }\n",
       "\n",
       "    .dataframe tbody tr th {\n",
       "        vertical-align: top;\n",
       "    }\n",
       "\n",
       "    .dataframe thead th {\n",
       "        text-align: right;\n",
       "    }\n",
       "</style>\n",
       "<table border=\"1\" class=\"dataframe\">\n",
       "  <thead>\n",
       "    <tr style=\"text-align: right;\">\n",
       "      <th></th>\n",
       "      <th>transaction_id</th>\n",
       "      <th>product_id</th>\n",
       "      <th>customer_id</th>\n",
       "      <th>transaction_date</th>\n",
       "      <th>online_order</th>\n",
       "      <th>order_status</th>\n",
       "      <th>brand</th>\n",
       "      <th>product_line</th>\n",
       "      <th>product_class</th>\n",
       "      <th>product_size</th>\n",
       "      <th>list_price</th>\n",
       "      <th>standard_cost</th>\n",
       "    </tr>\n",
       "  </thead>\n",
       "  <tbody>\n",
       "    <tr>\n",
       "      <th>19990</th>\n",
       "      <td>19991</td>\n",
       "      <td>78</td>\n",
       "      <td>425</td>\n",
       "      <td>2017-01-26</td>\n",
       "      <td>False</td>\n",
       "      <td>Approved</td>\n",
       "      <td>Giant Bicycles</td>\n",
       "      <td>Standard</td>\n",
       "      <td>medium</td>\n",
       "      <td>large</td>\n",
       "      <td>1765.30</td>\n",
       "      <td>709.48</td>\n",
       "    </tr>\n",
       "    <tr>\n",
       "      <th>19991</th>\n",
       "      <td>19992</td>\n",
       "      <td>11</td>\n",
       "      <td>1374</td>\n",
       "      <td>2017-09-14</td>\n",
       "      <td>False</td>\n",
       "      <td>Approved</td>\n",
       "      <td>Giant Bicycles</td>\n",
       "      <td>Standard</td>\n",
       "      <td>high</td>\n",
       "      <td>medium</td>\n",
       "      <td>1274.93</td>\n",
       "      <td>764.96</td>\n",
       "    </tr>\n",
       "    <tr>\n",
       "      <th>19992</th>\n",
       "      <td>19993</td>\n",
       "      <td>13</td>\n",
       "      <td>5</td>\n",
       "      <td>2017-04-28</td>\n",
       "      <td>False</td>\n",
       "      <td>Approved</td>\n",
       "      <td>Solex</td>\n",
       "      <td>Standard</td>\n",
       "      <td>medium</td>\n",
       "      <td>medium</td>\n",
       "      <td>1163.89</td>\n",
       "      <td>589.27</td>\n",
       "    </tr>\n",
       "    <tr>\n",
       "      <th>19993</th>\n",
       "      <td>19994</td>\n",
       "      <td>77</td>\n",
       "      <td>2618</td>\n",
       "      <td>2017-12-23</td>\n",
       "      <td>False</td>\n",
       "      <td>Approved</td>\n",
       "      <td>Norco Bicycles</td>\n",
       "      <td>Road</td>\n",
       "      <td>medium</td>\n",
       "      <td>large</td>\n",
       "      <td>1240.31</td>\n",
       "      <td>795.10</td>\n",
       "    </tr>\n",
       "    <tr>\n",
       "      <th>19994</th>\n",
       "      <td>19995</td>\n",
       "      <td>9</td>\n",
       "      <td>718</td>\n",
       "      <td>2017-05-13</td>\n",
       "      <td>True</td>\n",
       "      <td>Approved</td>\n",
       "      <td>OHM Cycles</td>\n",
       "      <td>Road</td>\n",
       "      <td>medium</td>\n",
       "      <td>medium</td>\n",
       "      <td>742.54</td>\n",
       "      <td>667.40</td>\n",
       "    </tr>\n",
       "    <tr>\n",
       "      <th>19995</th>\n",
       "      <td>19996</td>\n",
       "      <td>51</td>\n",
       "      <td>1018</td>\n",
       "      <td>2017-06-24</td>\n",
       "      <td>True</td>\n",
       "      <td>Approved</td>\n",
       "      <td>OHM Cycles</td>\n",
       "      <td>Standard</td>\n",
       "      <td>high</td>\n",
       "      <td>medium</td>\n",
       "      <td>2005.66</td>\n",
       "      <td>1203.40</td>\n",
       "    </tr>\n",
       "    <tr>\n",
       "      <th>19996</th>\n",
       "      <td>19997</td>\n",
       "      <td>41</td>\n",
       "      <td>127</td>\n",
       "      <td>2017-11-09</td>\n",
       "      <td>True</td>\n",
       "      <td>Approved</td>\n",
       "      <td>Solex</td>\n",
       "      <td>Road</td>\n",
       "      <td>medium</td>\n",
       "      <td>medium</td>\n",
       "      <td>416.98</td>\n",
       "      <td>312.74</td>\n",
       "    </tr>\n",
       "    <tr>\n",
       "      <th>19997</th>\n",
       "      <td>19998</td>\n",
       "      <td>87</td>\n",
       "      <td>2284</td>\n",
       "      <td>2017-04-14</td>\n",
       "      <td>True</td>\n",
       "      <td>Approved</td>\n",
       "      <td>OHM Cycles</td>\n",
       "      <td>Standard</td>\n",
       "      <td>medium</td>\n",
       "      <td>medium</td>\n",
       "      <td>1636.90</td>\n",
       "      <td>44.71</td>\n",
       "    </tr>\n",
       "    <tr>\n",
       "      <th>19998</th>\n",
       "      <td>19999</td>\n",
       "      <td>6</td>\n",
       "      <td>2764</td>\n",
       "      <td>2017-07-03</td>\n",
       "      <td>False</td>\n",
       "      <td>Approved</td>\n",
       "      <td>OHM Cycles</td>\n",
       "      <td>Standard</td>\n",
       "      <td>high</td>\n",
       "      <td>medium</td>\n",
       "      <td>227.88</td>\n",
       "      <td>136.73</td>\n",
       "    </tr>\n",
       "    <tr>\n",
       "      <th>19999</th>\n",
       "      <td>20000</td>\n",
       "      <td>11</td>\n",
       "      <td>1144</td>\n",
       "      <td>2017-09-22</td>\n",
       "      <td>True</td>\n",
       "      <td>Approved</td>\n",
       "      <td>Trek Bicycles</td>\n",
       "      <td>Standard</td>\n",
       "      <td>medium</td>\n",
       "      <td>small</td>\n",
       "      <td>1775.81</td>\n",
       "      <td>1580.47</td>\n",
       "    </tr>\n",
       "  </tbody>\n",
       "</table>\n",
       "</div>"
      ],
      "text/plain": [
       "       transaction_id  product_id  customer_id transaction_date online_order  \\\n",
       "19990           19991          78          425       2017-01-26        False   \n",
       "19991           19992          11         1374       2017-09-14        False   \n",
       "19992           19993          13            5       2017-04-28        False   \n",
       "19993           19994          77         2618       2017-12-23        False   \n",
       "19994           19995           9          718       2017-05-13         True   \n",
       "19995           19996          51         1018       2017-06-24         True   \n",
       "19996           19997          41          127       2017-11-09         True   \n",
       "19997           19998          87         2284       2017-04-14         True   \n",
       "19998           19999           6         2764       2017-07-03        False   \n",
       "19999           20000          11         1144       2017-09-22         True   \n",
       "\n",
       "      order_status           brand product_line product_class product_size  \\\n",
       "19990     Approved  Giant Bicycles     Standard        medium        large   \n",
       "19991     Approved  Giant Bicycles     Standard          high       medium   \n",
       "19992     Approved           Solex     Standard        medium       medium   \n",
       "19993     Approved  Norco Bicycles         Road        medium        large   \n",
       "19994     Approved      OHM Cycles         Road        medium       medium   \n",
       "19995     Approved      OHM Cycles     Standard          high       medium   \n",
       "19996     Approved           Solex         Road        medium       medium   \n",
       "19997     Approved      OHM Cycles     Standard        medium       medium   \n",
       "19998     Approved      OHM Cycles     Standard          high       medium   \n",
       "19999     Approved   Trek Bicycles     Standard        medium        small   \n",
       "\n",
       "       list_price  standard_cost  \n",
       "19990     1765.30         709.48  \n",
       "19991     1274.93         764.96  \n",
       "19992     1163.89         589.27  \n",
       "19993     1240.31         795.10  \n",
       "19994      742.54         667.40  \n",
       "19995     2005.66        1203.40  \n",
       "19996      416.98         312.74  \n",
       "19997     1636.90          44.71  \n",
       "19998      227.88         136.73  \n",
       "19999     1775.81        1580.47  "
      ]
     },
     "execution_count": 155,
     "metadata": {},
     "output_type": "execute_result"
    }
   ],
   "source": [
    "df_tr.tail(10)"
   ]
  },
  {
   "cell_type": "markdown",
   "id": "d9bed370",
   "metadata": {},
   "source": [
    "Один и тот же ID продукта может иметь разную продуктовую линейку, брэнд, размер и ценну. Соответственно для выделения его в отдельную таблицу понадобится сурогатный ключ"
   ]
  },
  {
   "cell_type": "markdown",
   "id": "82759cd0",
   "metadata": {},
   "source": [
    "Выделим данные по продукту в отдельный датафрейм"
   ]
  },
  {
   "cell_type": "code",
   "execution_count": 156,
   "id": "0b9c3ee1",
   "metadata": {},
   "outputs": [
    {
     "data": {
      "text/plain": [
       "399"
      ]
     },
     "execution_count": 156,
     "metadata": {},
     "output_type": "execute_result"
    }
   ],
   "source": [
    "df_pr= df_tr[['product_id', 'brand', 'product_line', 'product_class', 'product_size', 'list_price', 'standard_cost']]\n",
    "df_pr.drop_duplicates().shape[0]"
   ]
  },
  {
   "cell_type": "markdown",
   "id": "831b17ed",
   "metadata": {},
   "source": [
    "Датафрейм содержит 399 уникальных значений. Удалим дубликаты и проверим есть ли очевидная взаимосвязь между ценой и продуктом"
   ]
  },
  {
   "cell_type": "code",
   "execution_count": 157,
   "id": "304bcb5d",
   "metadata": {},
   "outputs": [
    {
     "data": {
      "text/plain": [
       "product_id\n",
       "0     223\n",
       "2       2\n",
       "17      2\n",
       "98      2\n",
       "36      2\n",
       "     ... \n",
       "55      1\n",
       "3       1\n",
       "47      1\n",
       "94      1\n",
       "65      1\n",
       "Name: count, Length: 101, dtype: int64"
      ]
     },
     "execution_count": 157,
     "metadata": {},
     "output_type": "execute_result"
    }
   ],
   "source": [
    "df_pr = df_pr.drop_duplicates()\n",
    "df_pr['product_id'].value_counts()"
   ]
  },
  {
   "cell_type": "code",
   "execution_count": 158,
   "id": "b688cbc8",
   "metadata": {},
   "outputs": [
    {
     "data": {
      "text/html": [
       "<div>\n",
       "<style scoped>\n",
       "    .dataframe tbody tr th:only-of-type {\n",
       "        vertical-align: middle;\n",
       "    }\n",
       "\n",
       "    .dataframe tbody tr th {\n",
       "        vertical-align: top;\n",
       "    }\n",
       "\n",
       "    .dataframe thead th {\n",
       "        text-align: right;\n",
       "    }\n",
       "</style>\n",
       "<table border=\"1\" class=\"dataframe\">\n",
       "  <thead>\n",
       "    <tr style=\"text-align: right;\">\n",
       "      <th></th>\n",
       "      <th>product_id</th>\n",
       "      <th>brand</th>\n",
       "      <th>product_line</th>\n",
       "      <th>product_class</th>\n",
       "      <th>product_size</th>\n",
       "      <th>list_price</th>\n",
       "      <th>standard_cost</th>\n",
       "    </tr>\n",
       "  </thead>\n",
       "  <tbody>\n",
       "    <tr>\n",
       "      <th>34</th>\n",
       "      <td>0</td>\n",
       "      <td>Norco Bicycles</td>\n",
       "      <td>Road</td>\n",
       "      <td>medium</td>\n",
       "      <td>medium</td>\n",
       "      <td>544.05</td>\n",
       "      <td>376.84</td>\n",
       "    </tr>\n",
       "    <tr>\n",
       "      <th>54</th>\n",
       "      <td>0</td>\n",
       "      <td>Norco Bicycles</td>\n",
       "      <td>Standard</td>\n",
       "      <td>low</td>\n",
       "      <td>medium</td>\n",
       "      <td>363.01</td>\n",
       "      <td>290.41</td>\n",
       "    </tr>\n",
       "    <tr>\n",
       "      <th>60</th>\n",
       "      <td>0</td>\n",
       "      <td>OHM Cycles</td>\n",
       "      <td>Road</td>\n",
       "      <td>high</td>\n",
       "      <td>large</td>\n",
       "      <td>12.01</td>\n",
       "      <td>7.21</td>\n",
       "    </tr>\n",
       "    <tr>\n",
       "      <th>63</th>\n",
       "      <td>0</td>\n",
       "      <td>Trek Bicycles</td>\n",
       "      <td>Standard</td>\n",
       "      <td>medium</td>\n",
       "      <td>medium</td>\n",
       "      <td>499.53</td>\n",
       "      <td>388.72</td>\n",
       "    </tr>\n",
       "    <tr>\n",
       "      <th>82</th>\n",
       "      <td>0</td>\n",
       "      <td>OHM Cycles</td>\n",
       "      <td>Standard</td>\n",
       "      <td>medium</td>\n",
       "      <td>medium</td>\n",
       "      <td>235.63</td>\n",
       "      <td>125.07</td>\n",
       "    </tr>\n",
       "    <tr>\n",
       "      <th>99</th>\n",
       "      <td>0</td>\n",
       "      <td>Solex</td>\n",
       "      <td>Standard</td>\n",
       "      <td>medium</td>\n",
       "      <td>medium</td>\n",
       "      <td>478.16</td>\n",
       "      <td>298.72</td>\n",
       "    </tr>\n",
       "    <tr>\n",
       "      <th>110</th>\n",
       "      <td>0</td>\n",
       "      <td>OHM Cycles</td>\n",
       "      <td>Standard</td>\n",
       "      <td>low</td>\n",
       "      <td>medium</td>\n",
       "      <td>71.16</td>\n",
       "      <td>56.93</td>\n",
       "    </tr>\n",
       "    <tr>\n",
       "      <th>119</th>\n",
       "      <td>0</td>\n",
       "      <td>Trek Bicycles</td>\n",
       "      <td>Standard</td>\n",
       "      <td>high</td>\n",
       "      <td>medium</td>\n",
       "      <td>495.72</td>\n",
       "      <td>297.43</td>\n",
       "    </tr>\n",
       "    <tr>\n",
       "      <th>136</th>\n",
       "      <td>0</td>\n",
       "      <td>NaN</td>\n",
       "      <td>NaN</td>\n",
       "      <td>NaN</td>\n",
       "      <td>NaN</td>\n",
       "      <td>1942.61</td>\n",
       "      <td>NaN</td>\n",
       "    </tr>\n",
       "    <tr>\n",
       "      <th>159</th>\n",
       "      <td>0</td>\n",
       "      <td>NaN</td>\n",
       "      <td>NaN</td>\n",
       "      <td>NaN</td>\n",
       "      <td>NaN</td>\n",
       "      <td>1656.86</td>\n",
       "      <td>NaN</td>\n",
       "    </tr>\n",
       "  </tbody>\n",
       "</table>\n",
       "</div>"
      ],
      "text/plain": [
       "     product_id           brand product_line product_class product_size  \\\n",
       "34            0  Norco Bicycles         Road        medium       medium   \n",
       "54            0  Norco Bicycles     Standard           low       medium   \n",
       "60            0      OHM Cycles         Road          high        large   \n",
       "63            0   Trek Bicycles     Standard        medium       medium   \n",
       "82            0      OHM Cycles     Standard        medium       medium   \n",
       "99            0           Solex     Standard        medium       medium   \n",
       "110           0      OHM Cycles     Standard           low       medium   \n",
       "119           0   Trek Bicycles     Standard          high       medium   \n",
       "136           0             NaN          NaN           NaN          NaN   \n",
       "159           0             NaN          NaN           NaN          NaN   \n",
       "\n",
       "     list_price  standard_cost  \n",
       "34       544.05         376.84  \n",
       "54       363.01         290.41  \n",
       "60        12.01           7.21  \n",
       "63       499.53         388.72  \n",
       "82       235.63         125.07  \n",
       "99       478.16         298.72  \n",
       "110       71.16          56.93  \n",
       "119      495.72         297.43  \n",
       "136     1942.61            NaN  \n",
       "159     1656.86            NaN  "
      ]
     },
     "execution_count": 158,
     "metadata": {},
     "output_type": "execute_result"
    }
   ],
   "source": [
    "df_pr[df_pr['product_id'] == 0].head(10)"
   ]
  },
  {
   "cell_type": "markdown",
   "id": "27ad0873",
   "metadata": {},
   "source": [
    "С учетом того, что у нас имеются продукты с ID 0 и полным отсутствием каких либо данных кроме цены, разумно вынести ценновые параметры в таблицу с транзакциями. Так как некоторое количество уникальных записей отличалось друг от друга только ценновыми параметрами, повторно удалим дубликаты, после удаления лишних столбцов"
   ]
  },
  {
   "cell_type": "code",
   "execution_count": 159,
   "id": "4463937e",
   "metadata": {},
   "outputs": [],
   "source": [
    "df_pr = df_pr.drop('list_price', axis=1)\n",
    "df_pr = df_pr.drop('standard_cost', axis=1)\n",
    "df_pr = df_pr.drop_duplicates()"
   ]
  },
  {
   "cell_type": "markdown",
   "id": "31807e95",
   "metadata": {},
   "source": [
    "Сгенерируем ключ для продуктов"
   ]
  },
  {
   "cell_type": "code",
   "execution_count": 160,
   "id": "c5bc3314",
   "metadata": {},
   "outputs": [
    {
     "data": {
      "text/html": [
       "<div>\n",
       "<style scoped>\n",
       "    .dataframe tbody tr th:only-of-type {\n",
       "        vertical-align: middle;\n",
       "    }\n",
       "\n",
       "    .dataframe tbody tr th {\n",
       "        vertical-align: top;\n",
       "    }\n",
       "\n",
       "    .dataframe thead th {\n",
       "        text-align: right;\n",
       "    }\n",
       "</style>\n",
       "<table border=\"1\" class=\"dataframe\">\n",
       "  <thead>\n",
       "    <tr style=\"text-align: right;\">\n",
       "      <th></th>\n",
       "      <th>id</th>\n",
       "      <th>product_id</th>\n",
       "      <th>brand</th>\n",
       "      <th>product_line</th>\n",
       "      <th>product_class</th>\n",
       "      <th>product_size</th>\n",
       "    </tr>\n",
       "  </thead>\n",
       "  <tbody>\n",
       "    <tr>\n",
       "      <th>0</th>\n",
       "      <td>0</td>\n",
       "      <td>2</td>\n",
       "      <td>Solex</td>\n",
       "      <td>Standard</td>\n",
       "      <td>medium</td>\n",
       "      <td>medium</td>\n",
       "    </tr>\n",
       "    <tr>\n",
       "      <th>1</th>\n",
       "      <td>1</td>\n",
       "      <td>3</td>\n",
       "      <td>Trek Bicycles</td>\n",
       "      <td>Standard</td>\n",
       "      <td>medium</td>\n",
       "      <td>large</td>\n",
       "    </tr>\n",
       "    <tr>\n",
       "      <th>2</th>\n",
       "      <td>2</td>\n",
       "      <td>37</td>\n",
       "      <td>OHM Cycles</td>\n",
       "      <td>Standard</td>\n",
       "      <td>low</td>\n",
       "      <td>medium</td>\n",
       "    </tr>\n",
       "    <tr>\n",
       "      <th>3</th>\n",
       "      <td>3</td>\n",
       "      <td>88</td>\n",
       "      <td>Norco Bicycles</td>\n",
       "      <td>Standard</td>\n",
       "      <td>medium</td>\n",
       "      <td>medium</td>\n",
       "    </tr>\n",
       "    <tr>\n",
       "      <th>4</th>\n",
       "      <td>4</td>\n",
       "      <td>78</td>\n",
       "      <td>Giant Bicycles</td>\n",
       "      <td>Standard</td>\n",
       "      <td>medium</td>\n",
       "      <td>large</td>\n",
       "    </tr>\n",
       "  </tbody>\n",
       "</table>\n",
       "</div>"
      ],
      "text/plain": [
       "   id  product_id           brand product_line product_class product_size\n",
       "0   0           2           Solex     Standard        medium       medium\n",
       "1   1           3   Trek Bicycles     Standard        medium        large\n",
       "2   2          37      OHM Cycles     Standard           low       medium\n",
       "3   3          88  Norco Bicycles     Standard        medium       medium\n",
       "4   4          78  Giant Bicycles     Standard        medium        large"
      ]
     },
     "execution_count": 160,
     "metadata": {},
     "output_type": "execute_result"
    }
   ],
   "source": [
    "df_pr = df_pr.reset_index().rename(columns={'index': 'id'})\n",
    "df_pr.head()"
   ]
  },
  {
   "cell_type": "code",
   "execution_count": 161,
   "id": "b73a46e0",
   "metadata": {},
   "outputs": [
    {
     "name": "stdout",
     "output_type": "stream",
     "text": [
      "<class 'pandas.core.frame.DataFrame'>\n",
      "RangeIndex: 190 entries, 0 to 189\n",
      "Data columns (total 6 columns):\n",
      " #   Column         Non-Null Count  Dtype \n",
      "---  ------         --------------  ----- \n",
      " 0   id             190 non-null    int64 \n",
      " 1   product_id     190 non-null    int64 \n",
      " 2   brand          189 non-null    object\n",
      " 3   product_line   189 non-null    object\n",
      " 4   product_class  189 non-null    object\n",
      " 5   product_size   189 non-null    object\n",
      "dtypes: int64(2), object(4)\n",
      "memory usage: 9.0+ KB\n"
     ]
    }
   ],
   "source": [
    "df_pr.info()"
   ]
  },
  {
   "cell_type": "markdown",
   "id": "a3da235d",
   "metadata": {},
   "source": [
    "Обновим ID продуктов в таблице транзакций и подготовим ее к выгрузке"
   ]
  },
  {
   "cell_type": "code",
   "execution_count": 162,
   "id": "e0e22c8a",
   "metadata": {},
   "outputs": [
    {
     "data": {
      "text/html": [
       "<div>\n",
       "<style scoped>\n",
       "    .dataframe tbody tr th:only-of-type {\n",
       "        vertical-align: middle;\n",
       "    }\n",
       "\n",
       "    .dataframe tbody tr th {\n",
       "        vertical-align: top;\n",
       "    }\n",
       "\n",
       "    .dataframe thead th {\n",
       "        text-align: right;\n",
       "    }\n",
       "</style>\n",
       "<table border=\"1\" class=\"dataframe\">\n",
       "  <thead>\n",
       "    <tr style=\"text-align: right;\">\n",
       "      <th></th>\n",
       "      <th>transaction_id</th>\n",
       "      <th>customer_id</th>\n",
       "      <th>transaction_date</th>\n",
       "      <th>online_order</th>\n",
       "      <th>order_status</th>\n",
       "      <th>list_price</th>\n",
       "      <th>standard_cost</th>\n",
       "      <th>product_id</th>\n",
       "    </tr>\n",
       "  </thead>\n",
       "  <tbody>\n",
       "    <tr>\n",
       "      <th>0</th>\n",
       "      <td>1</td>\n",
       "      <td>2950</td>\n",
       "      <td>2017-02-25</td>\n",
       "      <td>False</td>\n",
       "      <td>Approved</td>\n",
       "      <td>71.49</td>\n",
       "      <td>53.62</td>\n",
       "      <td>0</td>\n",
       "    </tr>\n",
       "    <tr>\n",
       "      <th>1</th>\n",
       "      <td>2</td>\n",
       "      <td>3120</td>\n",
       "      <td>2017-05-21</td>\n",
       "      <td>True</td>\n",
       "      <td>Approved</td>\n",
       "      <td>2091.47</td>\n",
       "      <td>388.92</td>\n",
       "      <td>1</td>\n",
       "    </tr>\n",
       "    <tr>\n",
       "      <th>2</th>\n",
       "      <td>3</td>\n",
       "      <td>402</td>\n",
       "      <td>2017-10-16</td>\n",
       "      <td>False</td>\n",
       "      <td>Approved</td>\n",
       "      <td>1793.43</td>\n",
       "      <td>248.82</td>\n",
       "      <td>2</td>\n",
       "    </tr>\n",
       "    <tr>\n",
       "      <th>3</th>\n",
       "      <td>4</td>\n",
       "      <td>3135</td>\n",
       "      <td>2017-08-31</td>\n",
       "      <td>False</td>\n",
       "      <td>Approved</td>\n",
       "      <td>1198.46</td>\n",
       "      <td>381.10</td>\n",
       "      <td>3</td>\n",
       "    </tr>\n",
       "    <tr>\n",
       "      <th>4</th>\n",
       "      <td>5</td>\n",
       "      <td>787</td>\n",
       "      <td>2017-10-01</td>\n",
       "      <td>True</td>\n",
       "      <td>Approved</td>\n",
       "      <td>1765.30</td>\n",
       "      <td>709.48</td>\n",
       "      <td>4</td>\n",
       "    </tr>\n",
       "  </tbody>\n",
       "</table>\n",
       "</div>"
      ],
      "text/plain": [
       "   transaction_id  customer_id transaction_date online_order order_status  \\\n",
       "0               1         2950       2017-02-25        False     Approved   \n",
       "1               2         3120       2017-05-21         True     Approved   \n",
       "2               3          402       2017-10-16        False     Approved   \n",
       "3               4         3135       2017-08-31        False     Approved   \n",
       "4               5          787       2017-10-01         True     Approved   \n",
       "\n",
       "   list_price  standard_cost  product_id  \n",
       "0       71.49          53.62           0  \n",
       "1     2091.47         388.92           1  \n",
       "2     1793.43         248.82           2  \n",
       "3     1198.46         381.10           3  \n",
       "4     1765.30         709.48           4  "
      ]
     },
     "execution_count": 162,
     "metadata": {},
     "output_type": "execute_result"
    }
   ],
   "source": [
    "df_tr = df_tr.merge(df_pr, on=['product_id', 'brand', 'product_line', 'product_class', 'product_size'], how='left')\n",
    "df_tr = df_tr.drop(columns=['product_id', 'brand', 'product_line', 'product_class', 'product_size']).rename(columns={'id': 'product_id'})\n",
    "df_tr.head()"
   ]
  },
  {
   "cell_type": "markdown",
   "id": "02cef079",
   "metadata": {},
   "source": [
    "Подготовим данны для загрузки в БД"
   ]
  },
  {
   "cell_type": "code",
   "execution_count": 163,
   "id": "ef1ac726",
   "metadata": {},
   "outputs": [
    {
     "data": {
      "text/plain": [
       "(20000, 8)"
      ]
     },
     "execution_count": 163,
     "metadata": {},
     "output_type": "execute_result"
    }
   ],
   "source": [
    "df_tr.shape"
   ]
  },
  {
   "cell_type": "code",
   "execution_count": 168,
   "id": "e12eb018",
   "metadata": {},
   "outputs": [],
   "source": [
    "df_tr.to_csv('transactions.csv', index=False)"
   ]
  },
  {
   "cell_type": "code",
   "execution_count": 165,
   "id": "51448096",
   "metadata": {},
   "outputs": [],
   "source": [
    "df_pr.to_csv('products.csv', index=False)"
   ]
  },
  {
   "cell_type": "code",
   "execution_count": 166,
   "id": "cacc6c65",
   "metadata": {},
   "outputs": [],
   "source": [
    "df_c.to_csv('customers.csv', index=False)"
   ]
  },
  {
   "cell_type": "markdown",
   "id": "4bb91474",
   "metadata": {},
   "source": [
    "При загрузке данных произошла ошибка, в связи с тем, что пользователь с ID 5034, не содержится в таблицу customers. Удалим соответвующую запись и посвторно создадим файл для загузки в БД"
   ]
  },
  {
   "cell_type": "code",
   "execution_count": 167,
   "id": "99989f1c",
   "metadata": {},
   "outputs": [],
   "source": [
    "df_tr = df_tr[df_tr['customer_id'] != 5034]"
   ]
  },
  {
   "cell_type": "code",
   "execution_count": 169,
   "id": "f293251e",
   "metadata": {},
   "outputs": [],
   "source": [
    "df_tr.to_csv('transactions.csv', index=False)"
   ]
  }
 ],
 "metadata": {
  "kernelspec": {
   "display_name": "Python 3 (ipykernel)",
   "language": "python",
   "name": "python3"
  },
  "language_info": {
   "codemirror_mode": {
    "name": "ipython",
    "version": 3
   },
   "file_extension": ".py",
   "mimetype": "text/x-python",
   "name": "python",
   "nbconvert_exporter": "python",
   "pygments_lexer": "ipython3",
   "version": "3.8.18"
  }
 },
 "nbformat": 4,
 "nbformat_minor": 5
}
